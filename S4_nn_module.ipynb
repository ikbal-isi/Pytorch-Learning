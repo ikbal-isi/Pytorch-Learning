{
 "cells": [
  {
   "cell_type": "code",
   "execution_count": 27,
   "id": "4245d6c0",
   "metadata": {},
   "outputs": [],
   "source": [
    "#Create model class\n",
    "import torch\n",
    "import torch.nn as nn\n",
    "\n",
    "class Model(nn.Module):\n",
    "\n",
    "    def __init__(self,n_features):\n",
    "        super().__init__()\n",
    "        self.linear1=nn.Linear(n_features,3)\n",
    "        self.relu=nn.ReLU()\n",
    "        self.linear2=nn.Linear(3,1)\n",
    "        self.sigmoid=nn.Sigmoid()\n",
    "\n",
    "    def forward(self,features):\n",
    "        out=self.linear1(features)\n",
    "        out=self.relu(out)\n",
    "        out=self.linear2(out)\n",
    "        out=self.sigmoid(out)\n",
    "        return out\n",
    "\n"
   ]
  },
  {
   "cell_type": "code",
   "execution_count": 28,
   "id": "b3a3b9c8",
   "metadata": {},
   "outputs": [],
   "source": [
    "# create dataset\n",
    "x=torch.rand(10,5)"
   ]
  },
  {
   "cell_type": "code",
   "execution_count": 29,
   "id": "f5640448",
   "metadata": {},
   "outputs": [
    {
     "data": {
      "text/plain": [
       "tensor([[0.4843],\n",
       "        [0.4902],\n",
       "        [0.4778],\n",
       "        [0.4903],\n",
       "        [0.4921],\n",
       "        [0.4635],\n",
       "        [0.4921],\n",
       "        [0.4921],\n",
       "        [0.4921],\n",
       "        [0.4662]], grad_fn=<SigmoidBackward0>)"
      ]
     },
     "execution_count": 29,
     "metadata": {},
     "output_type": "execute_result"
    }
   ],
   "source": [
    "model=Model(x.shape[1])\n",
    "\n",
    "# call forward pass\n",
    "#model.forward(x)\n",
    "model(x)"
   ]
  },
  {
   "cell_type": "code",
   "execution_count": 30,
   "id": "2533a268",
   "metadata": {},
   "outputs": [
    {
     "data": {
      "text/plain": [
       "Parameter containing:\n",
       "tensor([[-0.4140, -0.2233, -0.3220,  0.0998, -0.0055],\n",
       "        [ 0.1350, -0.2958, -0.1695,  0.3893, -0.0642],\n",
       "        [ 0.0099, -0.3863,  0.0011,  0.4219,  0.3449]], requires_grad=True)"
      ]
     },
     "execution_count": 30,
     "metadata": {},
     "output_type": "execute_result"
    }
   ],
   "source": [
    "model.linear1.weight"
   ]
  },
  {
   "cell_type": "code",
   "execution_count": 31,
   "id": "18ab7c90",
   "metadata": {},
   "outputs": [
    {
     "data": {
      "text/plain": [
       "Parameter containing:\n",
       "tensor([-0.0766, -0.3376, -0.1872], requires_grad=True)"
      ]
     },
     "execution_count": 31,
     "metadata": {},
     "output_type": "execute_result"
    }
   ],
   "source": [
    "model.linear1.bias"
   ]
  },
  {
   "cell_type": "code",
   "execution_count": 22,
   "id": "f12d2e00",
   "metadata": {},
   "outputs": [
    {
     "name": "stdout",
     "output_type": "stream",
     "text": [
      "Collecting torchinfo\n",
      "  Obtaining dependency information for torchinfo from https://files.pythonhosted.org/packages/72/25/973bd6128381951b23cdcd8a9870c6dcfc5606cb864df8eabd82e529f9c1/torchinfo-1.8.0-py3-none-any.whl.metadata\n",
      "  Downloading torchinfo-1.8.0-py3-none-any.whl.metadata (21 kB)\n",
      "Downloading torchinfo-1.8.0-py3-none-any.whl (23 kB)\n",
      "Installing collected packages: torchinfo\n",
      "Successfully installed torchinfo-1.8.0\n"
     ]
    }
   ],
   "source": [
    "!pip install torchinfo"
   ]
  },
  {
   "cell_type": "code",
   "execution_count": 32,
   "id": "265a17ae",
   "metadata": {},
   "outputs": [
    {
     "data": {
      "text/plain": [
       "==========================================================================================\n",
       "Layer (type:depth-idx)                   Output Shape              Param #\n",
       "==========================================================================================\n",
       "Model                                    [10, 1]                   --\n",
       "├─Linear: 1-1                            [10, 3]                   18\n",
       "├─ReLU: 1-2                              [10, 3]                   --\n",
       "├─Linear: 1-3                            [10, 1]                   4\n",
       "├─Sigmoid: 1-4                           [10, 1]                   --\n",
       "==========================================================================================\n",
       "Total params: 22\n",
       "Trainable params: 22\n",
       "Non-trainable params: 0\n",
       "Total mult-adds (Units.MEGABYTES): 0.00\n",
       "==========================================================================================\n",
       "Input size (MB): 0.00\n",
       "Forward/backward pass size (MB): 0.00\n",
       "Params size (MB): 0.00\n",
       "Estimated Total Size (MB): 0.00\n",
       "=========================================================================================="
      ]
     },
     "execution_count": 32,
     "metadata": {},
     "output_type": "execute_result"
    }
   ],
   "source": [
    "from torchinfo import summary\n",
    "summary(model,input_size=(10,5))"
   ]
  },
  {
   "cell_type": "code",
   "execution_count": 42,
   "id": "ab3b75c4",
   "metadata": {},
   "outputs": [],
   "source": [
    "#using sequential container\n",
    "import torch\n",
    "import torch.nn as nn\n",
    "\n",
    "class Model(nn.Module):\n",
    "    def __init__(self,n_features):\n",
    "        super().__init__()\n",
    "        self.network=nn.Sequential(nn.Linear(n_features,3),\n",
    "        nn.ReLU(),\n",
    "        nn.Linear(3,1),\n",
    "        nn.Sigmoid())\n",
    "\n",
    "    def forward(self,features):\n",
    "        out=self.network(features)  \n",
    "        return out  \n",
    "    "
   ]
  },
  {
   "cell_type": "code",
   "execution_count": 43,
   "id": "7e4ff0f4",
   "metadata": {},
   "outputs": [
    {
     "data": {
      "text/plain": [
       "tensor([[0.4596],\n",
       "        [0.4531],\n",
       "        [0.4720],\n",
       "        [0.4528],\n",
       "        [0.4589],\n",
       "        [0.4529],\n",
       "        [0.4902],\n",
       "        [0.4584],\n",
       "        [0.4555],\n",
       "        [0.4562]], grad_fn=<SigmoidBackward0>)"
      ]
     },
     "execution_count": 43,
     "metadata": {},
     "output_type": "execute_result"
    }
   ],
   "source": [
    "model=Model(x.shape[1])\n",
    "model(x)"
   ]
  },
  {
   "cell_type": "code",
   "execution_count": null,
   "id": "ff965fa5",
   "metadata": {},
   "outputs": [],
   "source": []
  }
 ],
 "metadata": {
  "kernelspec": {
   "display_name": "base",
   "language": "python",
   "name": "python3"
  },
  "language_info": {
   "codemirror_mode": {
    "name": "ipython",
    "version": 3
   },
   "file_extension": ".py",
   "mimetype": "text/x-python",
   "name": "python",
   "nbconvert_exporter": "python",
   "pygments_lexer": "ipython3",
   "version": "3.11.4"
  }
 },
 "nbformat": 4,
 "nbformat_minor": 5
}
