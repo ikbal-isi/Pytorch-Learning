{
  "cells": [
    {
      "cell_type": "code",
      "execution_count": 2,
      "metadata": {
        "colab": {
          "base_uri": "https://localhost:8080/"
        },
        "id": "t19_gq09KjvE",
        "outputId": "c4e2db76-5880-45d3-eabf-390c5c065fe9"
      },
      "outputs": [
        {
          "name": "stdout",
          "output_type": "stream",
          "text": [
            "2.8.0+cu126\n"
          ]
        }
      ],
      "source": [
        "import torch\n",
        "print(torch.__version__)"
      ]
    },
    {
      "cell_type": "code",
      "execution_count": 3,
      "metadata": {
        "colab": {
          "base_uri": "https://localhost:8080/"
        },
        "id": "W8o-1cUl4M2x",
        "outputId": "cf36f81c-087d-450d-feef-9d8417fc5f48"
      },
      "outputs": [
        {
          "name": "stdout",
          "output_type": "stream",
          "text": [
            "GPU is available!\n",
            "Using GPU: Tesla T4\n"
          ]
        }
      ],
      "source": [
        "if torch.cuda.is_available():\n",
        "    print(\"GPU is available!\")\n",
        "    print(f\"Using GPU: {torch.cuda.get_device_name(0)}\")\n",
        "else:\n",
        "    print(\"GPU not available. Using CPU.\")"
      ]
    },
    {
      "cell_type": "markdown",
      "metadata": {
        "id": "BFcs4wpz4wlA"
      },
      "source": [
        "## Creating a Tensor"
      ]
    },
    {
      "cell_type": "code",
      "execution_count": 4,
      "metadata": {
        "id": "AYzOQK7n4nNq"
      },
      "outputs": [],
      "source": [
        "# using empty\n",
        "a = torch.empty(2,3)"
      ]
    },
    {
      "cell_type": "code",
      "execution_count": 5,
      "metadata": {
        "colab": {
          "base_uri": "https://localhost:8080/"
        },
        "id": "cSOoTAZY5FR1",
        "outputId": "823b00ea-0931-4f97-c948-447857bb74d1"
      },
      "outputs": [
        {
          "data": {
            "text/plain": [
              "torch.Tensor"
            ]
          },
          "execution_count": 5,
          "metadata": {},
          "output_type": "execute_result"
        }
      ],
      "source": [
        "# check type\n",
        "type(a)"
      ]
    },
    {
      "cell_type": "code",
      "execution_count": 6,
      "metadata": {
        "colab": {
          "base_uri": "https://localhost:8080/"
        },
        "id": "LxVQPOVN47Dt",
        "outputId": "4da61ccd-7973-4af2-fa4a-778fe9409461"
      },
      "outputs": [
        {
          "data": {
            "text/plain": [
              "tensor([[0., 0., 0.],\n",
              "        [0., 0., 0.]])"
            ]
          },
          "execution_count": 6,
          "metadata": {},
          "output_type": "execute_result"
        }
      ],
      "source": [
        "# using zeros\n",
        "torch.zeros(2,3)"
      ]
    },
    {
      "cell_type": "code",
      "execution_count": 7,
      "metadata": {
        "colab": {
          "base_uri": "https://localhost:8080/"
        },
        "id": "U3-KPOlX48mT",
        "outputId": "a419d646-0971-4736-c303-042119c9ee1e"
      },
      "outputs": [
        {
          "data": {
            "text/plain": [
              "tensor([[1., 1., 1.],\n",
              "        [1., 1., 1.]])"
            ]
          },
          "execution_count": 7,
          "metadata": {},
          "output_type": "execute_result"
        }
      ],
      "source": [
        "# using ones\n",
        "torch.ones(2,3)"
      ]
    },
    {
      "cell_type": "code",
      "execution_count": 8,
      "metadata": {
        "colab": {
          "base_uri": "https://localhost:8080/"
        },
        "id": "U_j_mRGK4-DA",
        "outputId": "2283cf8f-b6d9-42c1-9ff6-8a3721aeece1"
      },
      "outputs": [
        {
          "data": {
            "text/plain": [
              "tensor([[0.8588, 0.2267, 0.8060],\n",
              "        [0.1783, 0.6360, 0.4860]])"
            ]
          },
          "execution_count": 8,
          "metadata": {},
          "output_type": "execute_result"
        }
      ],
      "source": [
        "# using rand\n",
        "torch.rand(2,3)"
      ]
    },
    {
      "cell_type": "code",
      "execution_count": 9,
      "metadata": {
        "colab": {
          "base_uri": "https://localhost:8080/"
        },
        "id": "lCAf-HRw5SiA",
        "outputId": "d0209851-f890-4e99-d19e-9677e7dcdb2e"
      },
      "outputs": [
        {
          "data": {
            "text/plain": [
              "tensor([[0.3919, 0.4599, 0.4697],\n",
              "        [0.1351, 0.0757, 0.4628]])"
            ]
          },
          "execution_count": 9,
          "metadata": {},
          "output_type": "execute_result"
        }
      ],
      "source": [
        "# use of seed\n",
        "torch.rand(2,3)"
      ]
    },
    {
      "cell_type": "code",
      "execution_count": 10,
      "metadata": {
        "colab": {
          "base_uri": "https://localhost:8080/"
        },
        "id": "DvAqsoFG5UMr",
        "outputId": "c70b9d73-35da-4138-9a61-3b90fe0cb48c"
      },
      "outputs": [
        {
          "data": {
            "text/plain": [
              "tensor([[0.1117, 0.8158, 0.2626],\n",
              "        [0.4839, 0.6765, 0.7539]])"
            ]
          },
          "execution_count": 10,
          "metadata": {},
          "output_type": "execute_result"
        }
      ],
      "source": [
        "# manual_seed\n",
        "torch.manual_seed(100)\n",
        "torch.rand(2,3)"
      ]
    },
    {
      "cell_type": "code",
      "execution_count": 11,
      "metadata": {
        "colab": {
          "base_uri": "https://localhost:8080/"
        },
        "id": "96Akgtgs5Ulp",
        "outputId": "b3d428bc-9811-478b-efbc-573199a59139"
      },
      "outputs": [
        {
          "data": {
            "text/plain": [
              "tensor([[0.1117, 0.8158, 0.2626],\n",
              "        [0.4839, 0.6765, 0.7539]])"
            ]
          },
          "execution_count": 11,
          "metadata": {},
          "output_type": "execute_result"
        }
      ],
      "source": [
        "torch.manual_seed(100)\n",
        "torch.rand(2,3)"
      ]
    },
    {
      "cell_type": "code",
      "execution_count": 12,
      "metadata": {
        "colab": {
          "base_uri": "https://localhost:8080/"
        },
        "id": "-YLLqcGB4_4J",
        "outputId": "d22fe2db-c63f-4e7c-f4d8-01c6db90253d"
      },
      "outputs": [
        {
          "data": {
            "text/plain": [
              "tensor([[1, 2, 3],\n",
              "        [4, 5, 6]])"
            ]
          },
          "execution_count": 12,
          "metadata": {},
          "output_type": "execute_result"
        }
      ],
      "source": [
        "# using tensor\n",
        "torch.tensor([[1,2,3],[4,5,6]])"
      ]
    },
    {
      "cell_type": "code",
      "execution_count": 13,
      "metadata": {
        "colab": {
          "base_uri": "https://localhost:8080/"
        },
        "id": "nLj35yxr6Qgv",
        "outputId": "3090bf96-0b92-490b-a4cd-640a92040b58"
      },
      "outputs": [
        {
          "name": "stdout",
          "output_type": "stream",
          "text": [
            "using arange -> tensor([0, 2, 4, 6, 8])\n",
            "using linspace -> tensor([ 0.0000,  1.1111,  2.2222,  3.3333,  4.4444,  5.5556,  6.6667,  7.7778,\n",
            "         8.8889, 10.0000])\n",
            "using eye -> tensor([[1., 0., 0., 0., 0.],\n",
            "        [0., 1., 0., 0., 0.],\n",
            "        [0., 0., 1., 0., 0.],\n",
            "        [0., 0., 0., 1., 0.],\n",
            "        [0., 0., 0., 0., 1.]])\n",
            "using full -> tensor([[5, 5, 5],\n",
            "        [5, 5, 5],\n",
            "        [5, 5, 5]])\n"
          ]
        }
      ],
      "source": [
        "# other ways\n",
        "\n",
        "# arange\n",
        "print(\"using arange ->\", torch.arange(0,10,2))\n",
        "\n",
        "# using linspace\n",
        "print(\"using linspace ->\", torch.linspace(0,10,10))\n",
        "\n",
        "# using eye\n",
        "print(\"using eye ->\", torch.eye(5))\n",
        "\n",
        "# using full\n",
        "print(\"using full ->\", torch.full((3, 3), 5))"
      ]
    },
    {
      "cell_type": "markdown",
      "metadata": {
        "id": "0ejaUWSkinz0"
      },
      "source": [
        "## Tensor Shapes"
      ]
    },
    {
      "cell_type": "code",
      "execution_count": 14,
      "metadata": {
        "colab": {
          "base_uri": "https://localhost:8080/"
        },
        "id": "HDrr5mQ86R4K",
        "outputId": "3eb043d4-cc38-4d90-c1d5-502d5df16fc7"
      },
      "outputs": [
        {
          "data": {
            "text/plain": [
              "tensor([[1, 2, 3],\n",
              "        [4, 5, 6]])"
            ]
          },
          "execution_count": 14,
          "metadata": {},
          "output_type": "execute_result"
        }
      ],
      "source": [
        "x = torch.tensor([[1,2,3],[4,5,6]])\n",
        "x"
      ]
    },
    {
      "cell_type": "code",
      "execution_count": 15,
      "metadata": {
        "colab": {
          "base_uri": "https://localhost:8080/"
        },
        "id": "xGZhrLablBq-",
        "outputId": "4eeeaa98-ca0e-483f-afb4-55627f25dc61"
      },
      "outputs": [
        {
          "data": {
            "text/plain": [
              "torch.Size([2, 3])"
            ]
          },
          "execution_count": 15,
          "metadata": {},
          "output_type": "execute_result"
        }
      ],
      "source": [
        "x.shape"
      ]
    },
    {
      "cell_type": "code",
      "execution_count": 16,
      "metadata": {
        "colab": {
          "base_uri": "https://localhost:8080/"
        },
        "id": "NEQW9QhmlKXA",
        "outputId": "992b0087-106e-4cb8-cb63-9c8aba1d4e83"
      },
      "outputs": [
        {
          "data": {
            "text/plain": [
              "tensor([[         260557,               0,               0],\n",
              "        [            113,      1066833040, 132207087746368]])"
            ]
          },
          "execution_count": 16,
          "metadata": {},
          "output_type": "execute_result"
        }
      ],
      "source": [
        "torch.empty_like(x)"
      ]
    },
    {
      "cell_type": "code",
      "execution_count": 17,
      "metadata": {
        "colab": {
          "base_uri": "https://localhost:8080/"
        },
        "id": "PyyKSNHTlXMU",
        "outputId": "482fdb07-359c-419f-c868-79b255aa6bdc"
      },
      "outputs": [
        {
          "data": {
            "text/plain": [
              "tensor([[0, 0, 0],\n",
              "        [0, 0, 0]])"
            ]
          },
          "execution_count": 17,
          "metadata": {},
          "output_type": "execute_result"
        }
      ],
      "source": [
        "torch.zeros_like(x)"
      ]
    },
    {
      "cell_type": "code",
      "execution_count": 18,
      "metadata": {
        "colab": {
          "base_uri": "https://localhost:8080/"
        },
        "id": "WtKV7Wxalb3l",
        "outputId": "5c334e60-715a-448c-9f37-010a9c24b939"
      },
      "outputs": [
        {
          "data": {
            "text/plain": [
              "tensor([[1, 1, 1],\n",
              "        [1, 1, 1]])"
            ]
          },
          "execution_count": 18,
          "metadata": {},
          "output_type": "execute_result"
        }
      ],
      "source": [
        "torch.ones_like(x)"
      ]
    },
    {
      "cell_type": "code",
      "execution_count": 19,
      "metadata": {
        "colab": {
          "base_uri": "https://localhost:8080/"
        },
        "id": "1WS_uk8ileyH",
        "outputId": "69d6515b-dd5b-4e99-c141-362ca9a6e182"
      },
      "outputs": [
        {
          "data": {
            "text/plain": [
              "tensor([[0.2627, 0.0428, 0.2080],\n",
              "        [0.1180, 0.1217, 0.7356]])"
            ]
          },
          "execution_count": 19,
          "metadata": {},
          "output_type": "execute_result"
        }
      ],
      "source": [
        "torch.rand_like(x, dtype=torch.float32)"
      ]
    },
    {
      "cell_type": "markdown",
      "metadata": {
        "id": "nYM1fR5BmxIf"
      },
      "source": [
        "## Tensor Data Types"
      ]
    },
    {
      "cell_type": "code",
      "execution_count": 20,
      "metadata": {
        "colab": {
          "base_uri": "https://localhost:8080/"
        },
        "id": "Jy-rBsKSliAe",
        "outputId": "0f095c5e-3443-45ac-c8de-3b917f277944"
      },
      "outputs": [
        {
          "data": {
            "text/plain": [
              "torch.int64"
            ]
          },
          "execution_count": 20,
          "metadata": {},
          "output_type": "execute_result"
        }
      ],
      "source": [
        "# find data type\n",
        "x.dtype"
      ]
    },
    {
      "cell_type": "code",
      "execution_count": 21,
      "metadata": {
        "colab": {
          "base_uri": "https://localhost:8080/"
        },
        "id": "6T2gmrujnaMA",
        "outputId": "c21fadb0-f307-4c6d-de82-1b78fd3aefc7"
      },
      "outputs": [
        {
          "data": {
            "text/plain": [
              "tensor([1, 2, 3], dtype=torch.int32)"
            ]
          },
          "execution_count": 21,
          "metadata": {},
          "output_type": "execute_result"
        }
      ],
      "source": [
        "# assign data type\n",
        "torch.tensor([1.0,2.0,3.0], dtype=torch.int32)"
      ]
    },
    {
      "cell_type": "code",
      "execution_count": 22,
      "metadata": {
        "colab": {
          "base_uri": "https://localhost:8080/"
        },
        "id": "wZ8lMLsInffd",
        "outputId": "a16e49b8-6048-4f7c-9efb-dbea0521d43e"
      },
      "outputs": [
        {
          "data": {
            "text/plain": [
              "tensor([1., 2., 3.], dtype=torch.float64)"
            ]
          },
          "execution_count": 22,
          "metadata": {},
          "output_type": "execute_result"
        }
      ],
      "source": [
        "torch.tensor([1,2,3], dtype=torch.float64)"
      ]
    },
    {
      "cell_type": "code",
      "execution_count": 23,
      "metadata": {
        "colab": {
          "base_uri": "https://localhost:8080/"
        },
        "id": "WTAB-h_ing07",
        "outputId": "ca172cd3-c0b7-459c-a7c4-a9b5274544f1"
      },
      "outputs": [
        {
          "data": {
            "text/plain": [
              "tensor([[1., 2., 3.],\n",
              "        [4., 5., 6.]])"
            ]
          },
          "execution_count": 23,
          "metadata": {},
          "output_type": "execute_result"
        }
      ],
      "source": [
        "# using to()\n",
        "x.to(torch.float32)"
      ]
    },
    {
      "cell_type": "markdown",
      "metadata": {
        "id": "dLm25jhknmuQ"
      },
      "source": [
        "| **Data Type**             | **Dtype**         | **Description**                                                                                                                                                                |\n",
        "|---------------------------|-------------------|--------------------------------------------------------------------------------------------------------------------------------------------------------------------------------|\n",
        "| **32-bit Floating Point** | `torch.float32`   | Standard floating-point type used for most deep learning tasks. Provides a balance between precision and memory usage.                                                         |\n",
        "| **64-bit Floating Point** | `torch.float64`   | Double-precision floating point. Useful for high-precision numerical tasks but uses more memory.                                                                               |\n",
        "| **16-bit Floating Point** | `torch.float16`   | Half-precision floating point. Commonly used in mixed-precision training to reduce memory and computational overhead on modern GPUs.                                            |\n",
        "| **BFloat16**              | `torch.bfloat16`  | Brain floating-point format with reduced precision compared to `float16`. Used in mixed-precision training, especially on TPUs.                                                |\n",
        "| **8-bit Floating Point**  | `torch.float8`    | Ultra-low-precision floating point. Used for experimental applications and extreme memory-constrained environments (less common).                                               |\n",
        "| **8-bit Integer**         | `torch.int8`      | 8-bit signed integer. Used for quantized models to save memory and computation in inference.                                                                                   |\n",
        "| **16-bit Integer**        | `torch.int16`     | 16-bit signed integer. Useful for special numerical tasks requiring intermediate precision.                                                                                    |\n",
        "| **32-bit Integer**        | `torch.int32`     | Standard signed integer type. Commonly used for indexing and general-purpose numerical tasks.                                                                                  |\n",
        "| **64-bit Integer**        | `torch.int64`     | Long integer type. Often used for large indexing arrays or for tasks involving large numbers.                                                                                  |\n",
        "| **8-bit Unsigned Integer**| `torch.uint8`     | 8-bit unsigned integer. Commonly used for image data (e.g., pixel values between 0 and 255).                                                                                    |\n",
        "| **Boolean**               | `torch.bool`      | Boolean type, stores `True` or `False` values. Often used for masks in logical operations.                                                                                      |\n",
        "| **Complex 64**            | `torch.complex64` | Complex number type with 32-bit real and 32-bit imaginary parts. Used for scientific and signal processing tasks.                                                               |\n",
        "| **Complex 128**           | `torch.complex128`| Complex number type with 64-bit real and 64-bit imaginary parts. Offers higher precision but uses more memory.                                                                 |\n",
        "| **Quantized Integer**     | `torch.qint8`     | Quantized signed 8-bit integer. Used in quantized models for efficient inference.                                                                                              |\n",
        "| **Quantized Unsigned Integer** | `torch.quint8` | Quantized unsigned 8-bit integer. Often used for quantized tensors in image-related tasks.                                                                                     |\n"
      ]
    },
    {
      "cell_type": "markdown",
      "metadata": {
        "id": "baPoka3lqpEQ"
      },
      "source": [
        "## Mathematical operations"
      ]
    },
    {
      "cell_type": "markdown",
      "metadata": {
        "id": "wre7rSdlqsOB"
      },
      "source": [
        "### 1. Scalar operation"
      ]
    },
    {
      "cell_type": "code",
      "execution_count": 24,
      "metadata": {
        "colab": {
          "base_uri": "https://localhost:8080/"
        },
        "id": "CS69nYyanqYD",
        "outputId": "0637b20b-089c-40f7-d4ff-30b4d680a938"
      },
      "outputs": [
        {
          "data": {
            "text/plain": [
              "tensor([[0.7118, 0.7876],\n",
              "        [0.4183, 0.9014]])"
            ]
          },
          "execution_count": 24,
          "metadata": {},
          "output_type": "execute_result"
        }
      ],
      "source": [
        "x = torch.rand(2,2)\n",
        "x"
      ]
    },
    {
      "cell_type": "code",
      "execution_count": 25,
      "metadata": {
        "colab": {
          "base_uri": "https://localhost:8080/"
        },
        "id": "ztrwQq-cqyz9",
        "outputId": "62830821-77e0-46bc-b430-7a3ef55e22d3"
      },
      "outputs": [
        {
          "data": {
            "text/plain": [
              "tensor([[0.5066, 0.6203],\n",
              "        [0.1750, 0.8125]])"
            ]
          },
          "execution_count": 25,
          "metadata": {},
          "output_type": "execute_result"
        }
      ],
      "source": [
        "# addition\n",
        "x + 2\n",
        "# substraction\n",
        "x - 2\n",
        "# multiplication\n",
        "x * 3\n",
        "# division\n",
        "x / 3\n",
        "# int division\n",
        "(x * 100)//3\n",
        "# mod\n",
        "((x * 100)//3)%2\n",
        "# power\n",
        "x**2"
      ]
    },
    {
      "cell_type": "markdown",
      "metadata": {
        "id": "y2n84o2ZrGcY"
      },
      "source": [
        "### 2. Element wise operation"
      ]
    },
    {
      "cell_type": "code",
      "execution_count": 26,
      "metadata": {
        "colab": {
          "base_uri": "https://localhost:8080/"
        },
        "id": "PcnbNatwq1_3",
        "outputId": "aa89ab3f-bfc2-418f-e1e8-17f81c1485b5"
      },
      "outputs": [
        {
          "name": "stdout",
          "output_type": "stream",
          "text": [
            "tensor([[0.9969, 0.7565, 0.2239],\n",
            "        [0.3023, 0.1784, 0.8238]])\n",
            "tensor([[0.5557, 0.9770, 0.4440],\n",
            "        [0.9478, 0.7445, 0.4892]])\n"
          ]
        }
      ],
      "source": [
        "a = torch.rand(2,3)\n",
        "b = torch.rand(2,3)\n",
        "\n",
        "print(a)\n",
        "print(b)"
      ]
    },
    {
      "cell_type": "code",
      "execution_count": 27,
      "metadata": {
        "colab": {
          "base_uri": "https://localhost:8080/"
        },
        "id": "Qye9acabrUae",
        "outputId": "0b1226bb-89de-41b1-88d8-4481c2396efd"
      },
      "outputs": [
        {
          "data": {
            "text/plain": [
              "tensor([[0.4411, 0.7565, 0.2239],\n",
              "        [0.3023, 0.1784, 0.3346]])"
            ]
          },
          "execution_count": 27,
          "metadata": {},
          "output_type": "execute_result"
        }
      ],
      "source": [
        "# add\n",
        "a + b\n",
        "# sub\n",
        "a - b\n",
        "# multiply\n",
        "a * b\n",
        "# division\n",
        "a / b\n",
        "# power\n",
        "a ** b\n",
        "# mod\n",
        "a % b"
      ]
    },
    {
      "cell_type": "code",
      "execution_count": 28,
      "metadata": {
        "id": "ftIq3-30rnhR"
      },
      "outputs": [],
      "source": [
        "c = torch.tensor([1, -2, 3, -4])"
      ]
    },
    {
      "cell_type": "code",
      "execution_count": 29,
      "metadata": {
        "colab": {
          "base_uri": "https://localhost:8080/"
        },
        "id": "GHWZWPxWr4rG",
        "outputId": "7a407a66-4dc8-4c94-b05e-d2229f71b79c"
      },
      "outputs": [
        {
          "data": {
            "text/plain": [
              "tensor([1, 2, 3, 4])"
            ]
          },
          "execution_count": 29,
          "metadata": {},
          "output_type": "execute_result"
        }
      ],
      "source": [
        "# abs\n",
        "torch.abs(c)"
      ]
    },
    {
      "cell_type": "code",
      "execution_count": 30,
      "metadata": {
        "colab": {
          "base_uri": "https://localhost:8080/"
        },
        "id": "kROGMVNtrtfT",
        "outputId": "c60ea994-32ea-4c66-ff83-5f7d42037242"
      },
      "outputs": [
        {
          "data": {
            "text/plain": [
              "tensor([-1,  2, -3,  4])"
            ]
          },
          "execution_count": 30,
          "metadata": {},
          "output_type": "execute_result"
        }
      ],
      "source": [
        "# negative\n",
        "torch.neg(c)"
      ]
    },
    {
      "cell_type": "code",
      "execution_count": 31,
      "metadata": {
        "id": "U2RLWzlaryKh"
      },
      "outputs": [],
      "source": [
        "d = torch.tensor([1.9, 2.3, 3.7, 4.4])"
      ]
    },
    {
      "cell_type": "code",
      "execution_count": 32,
      "metadata": {
        "colab": {
          "base_uri": "https://localhost:8080/"
        },
        "id": "g4OrL7w9sAWF",
        "outputId": "fa4df193-4d14-4b66-95b1-b87c246e713d"
      },
      "outputs": [
        {
          "data": {
            "text/plain": [
              "tensor([2., 2., 4., 4.])"
            ]
          },
          "execution_count": 32,
          "metadata": {},
          "output_type": "execute_result"
        }
      ],
      "source": [
        "# round\n",
        "torch.round(d)"
      ]
    },
    {
      "cell_type": "code",
      "execution_count": 33,
      "metadata": {
        "colab": {
          "base_uri": "https://localhost:8080/"
        },
        "id": "1fPsOYOAsEE6",
        "outputId": "05bf69d0-3256-4dc9-f83e-556226bbda13"
      },
      "outputs": [
        {
          "data": {
            "text/plain": [
              "tensor([2., 3., 4., 5.])"
            ]
          },
          "execution_count": 33,
          "metadata": {},
          "output_type": "execute_result"
        }
      ],
      "source": [
        "# ceil\n",
        "torch.ceil(d)"
      ]
    },
    {
      "cell_type": "code",
      "execution_count": 34,
      "metadata": {
        "colab": {
          "base_uri": "https://localhost:8080/"
        },
        "id": "ilT0yf1TsE6G",
        "outputId": "902c7e7b-24d8-4f52-8108-53a231e64d1f"
      },
      "outputs": [
        {
          "data": {
            "text/plain": [
              "tensor([1., 2., 3., 4.])"
            ]
          },
          "execution_count": 34,
          "metadata": {},
          "output_type": "execute_result"
        }
      ],
      "source": [
        "# floor\n",
        "torch.floor(d)"
      ]
    },
    {
      "cell_type": "code",
      "execution_count": 35,
      "metadata": {
        "colab": {
          "base_uri": "https://localhost:8080/"
        },
        "id": "ZzVkY4xgsFvP",
        "outputId": "7d21b12f-44d1-4646-fb27-8bf932657d51"
      },
      "outputs": [
        {
          "data": {
            "text/plain": [
              "tensor([2.0000, 2.3000, 3.0000, 3.0000])"
            ]
          },
          "execution_count": 35,
          "metadata": {},
          "output_type": "execute_result"
        }
      ],
      "source": [
        "# clamp\n",
        "torch.clamp(d, min=2, max=3)"
      ]
    },
    {
      "cell_type": "markdown",
      "metadata": {
        "id": "4vWfG_ZmsN0J"
      },
      "source": [
        "### 3. Reduction operation"
      ]
    },
    {
      "cell_type": "code",
      "execution_count": 36,
      "metadata": {
        "colab": {
          "base_uri": "https://localhost:8080/"
        },
        "id": "JQBlGL52sGae",
        "outputId": "525aa4ea-3173-4b55-f4a5-5398e6cddd8e"
      },
      "outputs": [
        {
          "data": {
            "text/plain": [
              "tensor([[8., 0., 7.],\n",
              "        [0., 0., 9.]])"
            ]
          },
          "execution_count": 36,
          "metadata": {},
          "output_type": "execute_result"
        }
      ],
      "source": [
        "e = torch.randint(size=(2,3), low=0, high=10, dtype=torch.float32)\n",
        "e"
      ]
    },
    {
      "cell_type": "code",
      "execution_count": 37,
      "metadata": {
        "colab": {
          "base_uri": "https://localhost:8080/"
        },
        "id": "9o8zMdUosWSs",
        "outputId": "315f6914-227d-426c-df3d-addad0acc88b"
      },
      "outputs": [
        {
          "data": {
            "text/plain": [
              "tensor([15.,  9.])"
            ]
          },
          "execution_count": 37,
          "metadata": {},
          "output_type": "execute_result"
        }
      ],
      "source": [
        "# sum\n",
        "torch.sum(e)\n",
        "# sum along columns\n",
        "torch.sum(e, dim=0)\n",
        "# sum along rows\n",
        "torch.sum(e, dim=1)"
      ]
    },
    {
      "cell_type": "code",
      "execution_count": 38,
      "metadata": {
        "colab": {
          "base_uri": "https://localhost:8080/"
        },
        "id": "5Am6Hrdssl90",
        "outputId": "87d5e07a-87f0-4033-d5fe-c4d065464a37"
      },
      "outputs": [
        {
          "data": {
            "text/plain": [
              "tensor([4., 0., 8.])"
            ]
          },
          "execution_count": 38,
          "metadata": {},
          "output_type": "execute_result"
        }
      ],
      "source": [
        "# mean\n",
        "torch.mean(e)\n",
        "# mean along col\n",
        "torch.mean(e, dim=0)"
      ]
    },
    {
      "cell_type": "code",
      "execution_count": 39,
      "metadata": {
        "colab": {
          "base_uri": "https://localhost:8080/"
        },
        "id": "wIXESOkIs8M8",
        "outputId": "410d3cf1-aaf7-48e0-f57b-7f28cc71b6e0"
      },
      "outputs": [
        {
          "data": {
            "text/plain": [
              "tensor(0.)"
            ]
          },
          "execution_count": 39,
          "metadata": {},
          "output_type": "execute_result"
        }
      ],
      "source": [
        "# median\n",
        "torch.median(e)"
      ]
    },
    {
      "cell_type": "code",
      "execution_count": 40,
      "metadata": {
        "colab": {
          "base_uri": "https://localhost:8080/"
        },
        "id": "RIs7y6cysnFT",
        "outputId": "819a0a83-d6eb-470d-803f-48c18d850347"
      },
      "outputs": [
        {
          "data": {
            "text/plain": [
              "tensor(0.)"
            ]
          },
          "execution_count": 40,
          "metadata": {},
          "output_type": "execute_result"
        }
      ],
      "source": [
        "# max and min\n",
        "torch.max(e)\n",
        "torch.min(e)"
      ]
    },
    {
      "cell_type": "code",
      "execution_count": 41,
      "metadata": {
        "colab": {
          "base_uri": "https://localhost:8080/"
        },
        "id": "TIP4CUwasw4Q",
        "outputId": "aa4e67d0-5966-4f02-af05-8be703c26920"
      },
      "outputs": [
        {
          "data": {
            "text/plain": [
              "tensor(0.)"
            ]
          },
          "execution_count": 41,
          "metadata": {},
          "output_type": "execute_result"
        }
      ],
      "source": [
        "# product\n",
        "torch.prod(e)"
      ]
    },
    {
      "cell_type": "code",
      "execution_count": 42,
      "metadata": {
        "colab": {
          "base_uri": "https://localhost:8080/"
        },
        "id": "BAQIjNjwsyLF",
        "outputId": "6af1b061-ebfc-49e7-e9a8-43e0bcc8738c"
      },
      "outputs": [
        {
          "data": {
            "text/plain": [
              "tensor(4.4272)"
            ]
          },
          "execution_count": 42,
          "metadata": {},
          "output_type": "execute_result"
        }
      ],
      "source": [
        "# standard deviation\n",
        "torch.std(e)"
      ]
    },
    {
      "cell_type": "code",
      "execution_count": 43,
      "metadata": {
        "colab": {
          "base_uri": "https://localhost:8080/"
        },
        "id": "78S1Ggv_s2nC",
        "outputId": "f64d9d26-5fba-454b-fe61-9ef73c12dda6"
      },
      "outputs": [
        {
          "data": {
            "text/plain": [
              "tensor(19.6000)"
            ]
          },
          "execution_count": 43,
          "metadata": {},
          "output_type": "execute_result"
        }
      ],
      "source": [
        "# variance\n",
        "torch.var(e)"
      ]
    },
    {
      "cell_type": "code",
      "execution_count": 44,
      "metadata": {
        "colab": {
          "base_uri": "https://localhost:8080/"
        },
        "id": "EOtGIsd9s3UZ",
        "outputId": "65ba012a-8474-4950-c659-07be8c1c7a5b"
      },
      "outputs": [
        {
          "data": {
            "text/plain": [
              "tensor(5)"
            ]
          },
          "execution_count": 44,
          "metadata": {},
          "output_type": "execute_result"
        }
      ],
      "source": [
        "# argmax\n",
        "torch.argmax(e)"
      ]
    },
    {
      "cell_type": "code",
      "execution_count": 45,
      "metadata": {
        "colab": {
          "base_uri": "https://localhost:8080/"
        },
        "id": "J23C1bwes6TL",
        "outputId": "a1584fd8-689e-4ced-9bf5-ee46c2c61b76"
      },
      "outputs": [
        {
          "data": {
            "text/plain": [
              "tensor(1)"
            ]
          },
          "execution_count": 45,
          "metadata": {},
          "output_type": "execute_result"
        }
      ],
      "source": [
        "# argmin\n",
        "torch.argmin(e)"
      ]
    },
    {
      "cell_type": "markdown",
      "metadata": {
        "id": "dw_h9fvMtLXw"
      },
      "source": [
        "### 4. Matrix operations"
      ]
    },
    {
      "cell_type": "code",
      "execution_count": 46,
      "metadata": {
        "colab": {
          "base_uri": "https://localhost:8080/"
        },
        "id": "a54MqBBQs7BJ",
        "outputId": "84af4a11-1ef5-4de0-e20a-10d370a66a23"
      },
      "outputs": [
        {
          "name": "stdout",
          "output_type": "stream",
          "text": [
            "tensor([[5, 7, 3],\n",
            "        [9, 4, 0]])\n",
            "tensor([[5, 7],\n",
            "        [5, 9],\n",
            "        [9, 7]])\n"
          ]
        }
      ],
      "source": [
        "f = torch.randint(size=(2,3), low=0, high=10)\n",
        "g = torch.randint(size=(3,2), low=0, high=10)\n",
        "\n",
        "print(f)\n",
        "print(g)"
      ]
    },
    {
      "cell_type": "code",
      "execution_count": 47,
      "metadata": {
        "colab": {
          "base_uri": "https://localhost:8080/"
        },
        "id": "BqQ7sNBctWfS",
        "outputId": "f2547153-ceef-4c85-da8f-eaf30d4bf214"
      },
      "outputs": [
        {
          "data": {
            "text/plain": [
              "tensor([[ 87, 119],\n",
              "        [ 65,  99]])"
            ]
          },
          "execution_count": 47,
          "metadata": {},
          "output_type": "execute_result"
        }
      ],
      "source": [
        "# matrix multiplcation\n",
        "torch.matmul(f, g)"
      ]
    },
    {
      "cell_type": "code",
      "execution_count": 48,
      "metadata": {
        "colab": {
          "base_uri": "https://localhost:8080/"
        },
        "id": "CopN1Oe5tZrD",
        "outputId": "271f79e3-d4cb-48e7-85b7-37370198507a"
      },
      "outputs": [
        {
          "data": {
            "text/plain": [
              "tensor(11)"
            ]
          },
          "execution_count": 48,
          "metadata": {},
          "output_type": "execute_result"
        }
      ],
      "source": [
        "vector1 = torch.tensor([1, 2])\n",
        "vector2 = torch.tensor([3, 4])\n",
        "\n",
        "# dot product\n",
        "torch.dot(vector1, vector2)"
      ]
    },
    {
      "cell_type": "code",
      "execution_count": 49,
      "metadata": {
        "colab": {
          "base_uri": "https://localhost:8080/"
        },
        "id": "9Imz3Vq6ta4y",
        "outputId": "31e7d668-64dc-45a6-ae55-40a97aabe0f3"
      },
      "outputs": [
        {
          "data": {
            "text/plain": [
              "tensor([[5, 9],\n",
              "        [7, 4],\n",
              "        [3, 0]])"
            ]
          },
          "execution_count": 49,
          "metadata": {},
          "output_type": "execute_result"
        }
      ],
      "source": [
        "# transpose\n",
        "torch.transpose(f, 0, 1)"
      ]
    },
    {
      "cell_type": "code",
      "execution_count": 50,
      "metadata": {
        "colab": {
          "base_uri": "https://localhost:8080/"
        },
        "id": "yEfuS9ZKtdSi",
        "outputId": "8d10f8c5-77b5-473c-bfc1-da5551934a13"
      },
      "outputs": [
        {
          "data": {
            "text/plain": [
              "tensor([[5., 9., 8.],\n",
              "        [9., 7., 9.],\n",
              "        [2., 6., 7.]])"
            ]
          },
          "execution_count": 50,
          "metadata": {},
          "output_type": "execute_result"
        }
      ],
      "source": [
        "h = torch.randint(size=(3,3), low=0, high=10, dtype=torch.float32)\n",
        "h"
      ]
    },
    {
      "cell_type": "code",
      "execution_count": 51,
      "metadata": {
        "colab": {
          "base_uri": "https://localhost:8080/"
        },
        "id": "PqfUsUvttpXZ",
        "outputId": "62337d99-24f0-4eb6-bcc5-82046821b05a"
      },
      "outputs": [
        {
          "data": {
            "text/plain": [
              "tensor(-110.)"
            ]
          },
          "execution_count": 51,
          "metadata": {},
          "output_type": "execute_result"
        }
      ],
      "source": [
        "# determinant\n",
        "torch.det(h)"
      ]
    },
    {
      "cell_type": "code",
      "execution_count": 52,
      "metadata": {
        "colab": {
          "base_uri": "https://localhost:8080/"
        },
        "id": "X0khPormts14",
        "outputId": "dca12698-bfdb-4749-da41-c7b08729ce9a"
      },
      "outputs": [
        {
          "data": {
            "text/plain": [
              "tensor([[ 0.0455,  0.1364, -0.2273],\n",
              "        [ 0.4091, -0.1727, -0.2455],\n",
              "        [-0.3636,  0.1091,  0.4182]])"
            ]
          },
          "execution_count": 52,
          "metadata": {},
          "output_type": "execute_result"
        }
      ],
      "source": [
        "# inverse\n",
        "torch.inverse(h)"
      ]
    },
    {
      "cell_type": "markdown",
      "metadata": {
        "id": "-lEkBmv5t1nB"
      },
      "source": [
        "### 5. Comparison operations"
      ]
    },
    {
      "cell_type": "code",
      "execution_count": 53,
      "metadata": {
        "colab": {
          "base_uri": "https://localhost:8080/"
        },
        "id": "G89Keg-xtxUr",
        "outputId": "ca68a285-1fbf-4961-a475-4cca5bc22184"
      },
      "outputs": [
        {
          "name": "stdout",
          "output_type": "stream",
          "text": [
            "tensor([[7, 8, 3],\n",
            "        [6, 1, 5]])\n",
            "tensor([[5, 0, 4],\n",
            "        [3, 8, 8]])\n"
          ]
        }
      ],
      "source": [
        "i = torch.randint(size=(2,3), low=0, high=10)\n",
        "j = torch.randint(size=(2,3), low=0, high=10)\n",
        "\n",
        "print(i)\n",
        "print(j)"
      ]
    },
    {
      "cell_type": "code",
      "execution_count": 54,
      "metadata": {
        "colab": {
          "base_uri": "https://localhost:8080/"
        },
        "id": "F5v--5uiuBWW",
        "outputId": "02d672ba-5640-4871-cf83-d7bfd9e31e8d"
      },
      "outputs": [
        {
          "data": {
            "text/plain": [
              "tensor([[True, True, True],\n",
              "        [True, True, True]])"
            ]
          },
          "execution_count": 54,
          "metadata": {},
          "output_type": "execute_result"
        }
      ],
      "source": [
        "# greater than\n",
        "i > j\n",
        "# less than\n",
        "i < j\n",
        "# equal to\n",
        "i == j\n",
        "# not equal to\n",
        "i != j\n",
        "# greater than equal to\n",
        "\n",
        "# less than equal to"
      ]
    },
    {
      "cell_type": "markdown",
      "metadata": {
        "id": "jd9JzlO1uaf3"
      },
      "source": [
        "### 6. Special functions"
      ]
    },
    {
      "cell_type": "code",
      "execution_count": 55,
      "metadata": {
        "colab": {
          "base_uri": "https://localhost:8080/"
        },
        "id": "lKU6tQpyuY0M",
        "outputId": "d7112ad0-e1e1-482b-9739-f783e1d50590"
      },
      "outputs": [
        {
          "data": {
            "text/plain": [
              "tensor([[3., 3., 5.],\n",
              "        [0., 6., 4.]])"
            ]
          },
          "execution_count": 55,
          "metadata": {},
          "output_type": "execute_result"
        }
      ],
      "source": [
        "k = torch.randint(size=(2,3), low=0, high=10, dtype=torch.float32)\n",
        "k"
      ]
    },
    {
      "cell_type": "code",
      "execution_count": 56,
      "metadata": {
        "colab": {
          "base_uri": "https://localhost:8080/"
        },
        "id": "-gl1dhdVuDOE",
        "outputId": "009622e5-e792-443d-9a26-2920174d5346"
      },
      "outputs": [
        {
          "data": {
            "text/plain": [
              "tensor([[1.0986, 1.0986, 1.6094],\n",
              "        [  -inf, 1.7918, 1.3863]])"
            ]
          },
          "execution_count": 56,
          "metadata": {},
          "output_type": "execute_result"
        }
      ],
      "source": [
        "# log\n",
        "torch.log(k)"
      ]
    },
    {
      "cell_type": "code",
      "execution_count": 57,
      "metadata": {
        "colab": {
          "base_uri": "https://localhost:8080/"
        },
        "id": "rQSpBdkbujck",
        "outputId": "8b09efc8-3da2-4134-b853-210e6493449a"
      },
      "outputs": [
        {
          "data": {
            "text/plain": [
              "tensor([[ 20.0855,  20.0855, 148.4132],\n",
              "        [  1.0000, 403.4288,  54.5981]])"
            ]
          },
          "execution_count": 57,
          "metadata": {},
          "output_type": "execute_result"
        }
      ],
      "source": [
        "# exp\n",
        "torch.exp(k)"
      ]
    },
    {
      "cell_type": "code",
      "execution_count": 58,
      "metadata": {
        "colab": {
          "base_uri": "https://localhost:8080/"
        },
        "id": "gTDfXdbVukh0",
        "outputId": "c9ba731a-3eab-4fc8-930c-d65108924614"
      },
      "outputs": [
        {
          "data": {
            "text/plain": [
              "tensor([[1.7321, 1.7321, 2.2361],\n",
              "        [0.0000, 2.4495, 2.0000]])"
            ]
          },
          "execution_count": 58,
          "metadata": {},
          "output_type": "execute_result"
        }
      ],
      "source": [
        "# sqrt\n",
        "torch.sqrt(k)"
      ]
    },
    {
      "cell_type": "code",
      "execution_count": 59,
      "metadata": {
        "colab": {
          "base_uri": "https://localhost:8080/"
        },
        "id": "d-rbMIVPunhr",
        "outputId": "38c5698c-5baa-4817-9522-bd147457a88c"
      },
      "outputs": [
        {
          "data": {
            "text/plain": [
              "tensor([[0.9526, 0.9526, 0.9933],\n",
              "        [0.5000, 0.9975, 0.9820]])"
            ]
          },
          "execution_count": 59,
          "metadata": {},
          "output_type": "execute_result"
        }
      ],
      "source": [
        "# sigmoid\n",
        "torch.sigmoid(k)"
      ]
    },
    {
      "cell_type": "code",
      "execution_count": 60,
      "metadata": {
        "colab": {
          "base_uri": "https://localhost:8080/"
        },
        "id": "X74chVfQusqf",
        "outputId": "d0650067-a44d-49a2-afe9-98513b64366a"
      },
      "outputs": [
        {
          "data": {
            "text/plain": [
              "tensor([[0.9526, 0.0474, 0.7311],\n",
              "        [0.0474, 0.9526, 0.2689]])"
            ]
          },
          "execution_count": 60,
          "metadata": {},
          "output_type": "execute_result"
        }
      ],
      "source": [
        "# softmax\n",
        "torch.softmax(k, dim=0)"
      ]
    },
    {
      "cell_type": "code",
      "execution_count": 61,
      "metadata": {
        "colab": {
          "base_uri": "https://localhost:8080/"
        },
        "id": "JnLG2JbyutvC",
        "outputId": "60343784-35ee-4ed4-f45e-3c1e56ad5456"
      },
      "outputs": [
        {
          "data": {
            "text/plain": [
              "tensor([[3., 3., 5.],\n",
              "        [0., 6., 4.]])"
            ]
          },
          "execution_count": 61,
          "metadata": {},
          "output_type": "execute_result"
        }
      ],
      "source": [
        "# relu\n",
        "torch.relu(k)"
      ]
    },
    {
      "cell_type": "markdown",
      "metadata": {
        "id": "JQ7im-Mz9Mu9"
      },
      "source": [
        "## Inplace Operations"
      ]
    },
    {
      "cell_type": "code",
      "execution_count": 62,
      "metadata": {
        "colab": {
          "base_uri": "https://localhost:8080/"
        },
        "id": "mKVMTBq7uufZ",
        "outputId": "a7c343c9-8121-45b9-e930-678fc8ea7e8f"
      },
      "outputs": [
        {
          "name": "stdout",
          "output_type": "stream",
          "text": [
            "tensor([[0.6574, 0.3451, 0.0453],\n",
            "        [0.9798, 0.5548, 0.6868]])\n",
            "tensor([[0.4920, 0.0748, 0.9605],\n",
            "        [0.3271, 0.0103, 0.9516]])\n"
          ]
        }
      ],
      "source": [
        "m = torch.rand(2,3)\n",
        "n = torch.rand(2,3)\n",
        "\n",
        "print(m)\n",
        "print(n)"
      ]
    },
    {
      "cell_type": "code",
      "execution_count": 63,
      "metadata": {
        "colab": {
          "base_uri": "https://localhost:8080/"
        },
        "id": "HmN2o2Ge_j8h",
        "outputId": "1a7d390a-efbd-4825-d439-8e2637598e02"
      },
      "outputs": [
        {
          "data": {
            "text/plain": [
              "tensor([[1.1494, 0.4199, 1.0058],\n",
              "        [1.3069, 0.5650, 1.6384]])"
            ]
          },
          "execution_count": 63,
          "metadata": {},
          "output_type": "execute_result"
        }
      ],
      "source": [
        "m.add_(n)"
      ]
    },
    {
      "cell_type": "code",
      "execution_count": 64,
      "metadata": {
        "colab": {
          "base_uri": "https://localhost:8080/"
        },
        "id": "1k8bPLhgAN64",
        "outputId": "e4c0a560-537e-480a-ee9f-0c4bb9fd01fc"
      },
      "outputs": [
        {
          "data": {
            "text/plain": [
              "tensor([[1.1494, 0.4199, 1.0058],\n",
              "        [1.3069, 0.5650, 1.6384]])"
            ]
          },
          "execution_count": 64,
          "metadata": {},
          "output_type": "execute_result"
        }
      ],
      "source": [
        "m"
      ]
    },
    {
      "cell_type": "code",
      "execution_count": 65,
      "metadata": {
        "colab": {
          "base_uri": "https://localhost:8080/"
        },
        "id": "d_pBAPcGAkHW",
        "outputId": "070390d7-9dc4-4719-cad6-9eeec8ea464d"
      },
      "outputs": [
        {
          "data": {
            "text/plain": [
              "tensor([[0.4920, 0.0748, 0.9605],\n",
              "        [0.3271, 0.0103, 0.9516]])"
            ]
          },
          "execution_count": 65,
          "metadata": {},
          "output_type": "execute_result"
        }
      ],
      "source": [
        "n"
      ]
    },
    {
      "cell_type": "code",
      "execution_count": 66,
      "metadata": {
        "colab": {
          "base_uri": "https://localhost:8080/"
        },
        "id": "8OhePrDbAmwh",
        "outputId": "34fc72e4-69a0-462b-ba9b-4e6631a5f067"
      },
      "outputs": [
        {
          "data": {
            "text/plain": [
              "tensor([[1.1494, 0.4199, 1.0058],\n",
              "        [1.3069, 0.5650, 1.6384]])"
            ]
          },
          "execution_count": 66,
          "metadata": {},
          "output_type": "execute_result"
        }
      ],
      "source": [
        "torch.relu(m)"
      ]
    },
    {
      "cell_type": "code",
      "execution_count": 67,
      "metadata": {
        "colab": {
          "base_uri": "https://localhost:8080/"
        },
        "id": "M_s6WQ0pAuTG",
        "outputId": "535161c3-1bdb-4bc2-c7a3-d27aa691d89a"
      },
      "outputs": [
        {
          "data": {
            "text/plain": [
              "tensor([[1.1494, 0.4199, 1.0058],\n",
              "        [1.3069, 0.5650, 1.6384]])"
            ]
          },
          "execution_count": 67,
          "metadata": {},
          "output_type": "execute_result"
        }
      ],
      "source": [
        "m.relu_()"
      ]
    },
    {
      "cell_type": "code",
      "execution_count": 68,
      "metadata": {
        "colab": {
          "base_uri": "https://localhost:8080/"
        },
        "id": "sucQ4iPYAyqn",
        "outputId": "917ae5f4-30e9-464b-8443-cca80036010d"
      },
      "outputs": [
        {
          "data": {
            "text/plain": [
              "tensor([[1.1494, 0.4199, 1.0058],\n",
              "        [1.3069, 0.5650, 1.6384]])"
            ]
          },
          "execution_count": 68,
          "metadata": {},
          "output_type": "execute_result"
        }
      ],
      "source": [
        "m"
      ]
    },
    {
      "cell_type": "markdown",
      "metadata": {
        "id": "7-SgjcqnCN9P"
      },
      "source": [
        "## Copying a Tensor"
      ]
    },
    {
      "cell_type": "code",
      "execution_count": 69,
      "metadata": {
        "colab": {
          "base_uri": "https://localhost:8080/"
        },
        "id": "z8SCsW7kA0jt",
        "outputId": "8831c048-9772-4a32-8ca8-b0a046800055"
      },
      "outputs": [
        {
          "data": {
            "text/plain": [
              "tensor([[0.2855, 0.2324, 0.9141],\n",
              "        [0.7668, 0.1659, 0.4393]])"
            ]
          },
          "execution_count": 69,
          "metadata": {},
          "output_type": "execute_result"
        }
      ],
      "source": [
        "a = torch.rand(2,3)\n",
        "a"
      ]
    },
    {
      "cell_type": "code",
      "execution_count": 70,
      "metadata": {
        "id": "3Z0IUCnpCsCv"
      },
      "outputs": [],
      "source": [
        "b = a"
      ]
    },
    {
      "cell_type": "code",
      "execution_count": 71,
      "metadata": {
        "colab": {
          "base_uri": "https://localhost:8080/"
        },
        "id": "1YNvboxaECjm",
        "outputId": "605507b9-0993-4709-efa7-053519d59252"
      },
      "outputs": [
        {
          "data": {
            "text/plain": [
              "tensor([[0.2855, 0.2324, 0.9141],\n",
              "        [0.7668, 0.1659, 0.4393]])"
            ]
          },
          "execution_count": 71,
          "metadata": {},
          "output_type": "execute_result"
        }
      ],
      "source": [
        "b"
      ]
    },
    {
      "cell_type": "code",
      "execution_count": 72,
      "metadata": {
        "id": "waV6eAuUEDzq"
      },
      "outputs": [],
      "source": [
        "a[0][0] = 0"
      ]
    },
    {
      "cell_type": "code",
      "execution_count": 73,
      "metadata": {
        "colab": {
          "base_uri": "https://localhost:8080/"
        },
        "id": "U7u-UDXpEIgJ",
        "outputId": "e7d5b5c0-e77c-44ca-c070-24490fb1c5da"
      },
      "outputs": [
        {
          "data": {
            "text/plain": [
              "tensor([[0.0000, 0.2324, 0.9141],\n",
              "        [0.7668, 0.1659, 0.4393]])"
            ]
          },
          "execution_count": 73,
          "metadata": {},
          "output_type": "execute_result"
        }
      ],
      "source": [
        "a"
      ]
    },
    {
      "cell_type": "code",
      "execution_count": 74,
      "metadata": {
        "colab": {
          "base_uri": "https://localhost:8080/"
        },
        "id": "-4tihkNkEJW3",
        "outputId": "dcad776d-b4d4-480c-8764-a970f56c28b6"
      },
      "outputs": [
        {
          "data": {
            "text/plain": [
              "tensor([[0.0000, 0.2324, 0.9141],\n",
              "        [0.7668, 0.1659, 0.4393]])"
            ]
          },
          "execution_count": 74,
          "metadata": {},
          "output_type": "execute_result"
        }
      ],
      "source": [
        "b"
      ]
    },
    {
      "cell_type": "code",
      "execution_count": 75,
      "metadata": {
        "colab": {
          "base_uri": "https://localhost:8080/"
        },
        "id": "m8D9GAChEL7E",
        "outputId": "73da9dd9-3cfb-4ce2-c7c2-22a573162047"
      },
      "outputs": [
        {
          "data": {
            "text/plain": [
              "132202683256336"
            ]
          },
          "execution_count": 75,
          "metadata": {},
          "output_type": "execute_result"
        }
      ],
      "source": [
        "id(a)"
      ]
    },
    {
      "cell_type": "code",
      "execution_count": 76,
      "metadata": {
        "colab": {
          "base_uri": "https://localhost:8080/"
        },
        "id": "vLh7o5KUEVJS",
        "outputId": "820f6985-11bc-484b-d276-4b51c5fc9632"
      },
      "outputs": [
        {
          "data": {
            "text/plain": [
              "132202683256336"
            ]
          },
          "execution_count": 76,
          "metadata": {},
          "output_type": "execute_result"
        }
      ],
      "source": [
        "id(b)"
      ]
    },
    {
      "cell_type": "code",
      "execution_count": 77,
      "metadata": {
        "id": "KWDEt8h8EW2i"
      },
      "outputs": [],
      "source": [
        "b = a.clone()"
      ]
    },
    {
      "cell_type": "code",
      "execution_count": 78,
      "metadata": {
        "colab": {
          "base_uri": "https://localhost:8080/"
        },
        "id": "ndhb6dktEcov",
        "outputId": "c867b434-add8-40aa-a4af-b47f81d0a505"
      },
      "outputs": [
        {
          "data": {
            "text/plain": [
              "tensor([[0.0000, 0.2324, 0.9141],\n",
              "        [0.7668, 0.1659, 0.4393]])"
            ]
          },
          "execution_count": 78,
          "metadata": {},
          "output_type": "execute_result"
        }
      ],
      "source": [
        "a"
      ]
    },
    {
      "cell_type": "code",
      "execution_count": 79,
      "metadata": {
        "colab": {
          "base_uri": "https://localhost:8080/"
        },
        "id": "M1MgVSoXEd2E",
        "outputId": "e2622f20-4c6e-42c2-f4ce-ae6dd2a31b80"
      },
      "outputs": [
        {
          "data": {
            "text/plain": [
              "tensor([[0.0000, 0.2324, 0.9141],\n",
              "        [0.7668, 0.1659, 0.4393]])"
            ]
          },
          "execution_count": 79,
          "metadata": {},
          "output_type": "execute_result"
        }
      ],
      "source": [
        "b"
      ]
    },
    {
      "cell_type": "code",
      "execution_count": 80,
      "metadata": {
        "id": "LGxrfDtTEeVI"
      },
      "outputs": [],
      "source": [
        "a[0][0] = 10"
      ]
    },
    {
      "cell_type": "code",
      "execution_count": 81,
      "metadata": {
        "colab": {
          "base_uri": "https://localhost:8080/"
        },
        "id": "KoGwR1k2Eg_1",
        "outputId": "1725a902-d7a9-4dbf-f587-131dfbd60ba9"
      },
      "outputs": [
        {
          "data": {
            "text/plain": [
              "tensor([[10.0000,  0.2324,  0.9141],\n",
              "        [ 0.7668,  0.1659,  0.4393]])"
            ]
          },
          "execution_count": 81,
          "metadata": {},
          "output_type": "execute_result"
        }
      ],
      "source": [
        "a"
      ]
    },
    {
      "cell_type": "code",
      "execution_count": 82,
      "metadata": {
        "colab": {
          "base_uri": "https://localhost:8080/"
        },
        "id": "hnmU7qDXEh_R",
        "outputId": "1d5183b0-c62d-4bb3-e74f-4872a3c2f5fa"
      },
      "outputs": [
        {
          "data": {
            "text/plain": [
              "tensor([[0.0000, 0.2324, 0.9141],\n",
              "        [0.7668, 0.1659, 0.4393]])"
            ]
          },
          "execution_count": 82,
          "metadata": {},
          "output_type": "execute_result"
        }
      ],
      "source": [
        "b"
      ]
    },
    {
      "cell_type": "code",
      "execution_count": 83,
      "metadata": {
        "colab": {
          "base_uri": "https://localhost:8080/"
        },
        "id": "5cy76FS5EjIz",
        "outputId": "2bf294d9-5e0f-4027-8da5-ce19b8e0f707"
      },
      "outputs": [
        {
          "data": {
            "text/plain": [
              "132202683256336"
            ]
          },
          "execution_count": 83,
          "metadata": {},
          "output_type": "execute_result"
        }
      ],
      "source": [
        "id(a)"
      ]
    },
    {
      "cell_type": "code",
      "execution_count": 84,
      "metadata": {
        "colab": {
          "base_uri": "https://localhost:8080/"
        },
        "id": "jmBkTNQ8EmP1",
        "outputId": "592d7cf5-ca52-4e4a-94a9-38184ba6ee9c"
      },
      "outputs": [
        {
          "data": {
            "text/plain": [
              "132202683165552"
            ]
          },
          "execution_count": 84,
          "metadata": {},
          "output_type": "execute_result"
        }
      ],
      "source": [
        "id(b)"
      ]
    },
    {
      "cell_type": "code",
      "execution_count": 84,
      "metadata": {
        "id": "W1SwQS8jEnW2"
      },
      "outputs": [],
      "source": []
    },
    {
      "cell_type": "markdown",
      "metadata": {
        "id": "0ML-TjDlhA9m"
      },
      "source": [
        "## Tensor operation in GPU"
      ]
    },
    {
      "cell_type": "code",
      "execution_count": 85,
      "metadata": {
        "colab": {
          "base_uri": "https://localhost:8080/"
        },
        "id": "oC6VHfBNhEOc",
        "outputId": "6575be20-0fdb-480f-8201-eda3da0c3714"
      },
      "outputs": [
        {
          "data": {
            "text/plain": [
              "True"
            ]
          },
          "execution_count": 85,
          "metadata": {},
          "output_type": "execute_result"
        }
      ],
      "source": [
        "torch.cuda.is_available()"
      ]
    },
    {
      "cell_type": "code",
      "execution_count": 86,
      "metadata": {
        "id": "_rraNVsIhi0v"
      },
      "outputs": [],
      "source": [
        "#store gpu in a variable\n",
        "device=torch.device(\"cuda\")"
      ]
    },
    {
      "cell_type": "code",
      "execution_count": 87,
      "metadata": {
        "id": "pDfYLT2HiFK9"
      },
      "outputs": [],
      "source": [
        "a=torch.rand((2,3),device=device)"
      ]
    },
    {
      "cell_type": "code",
      "execution_count": 89,
      "metadata": {
        "id": "ecypf7QIiLtz"
      },
      "outputs": [],
      "source": [
        "b=torch.rand((3,3),device=device)"
      ]
    },
    {
      "cell_type": "code",
      "execution_count": 91,
      "metadata": {
        "colab": {
          "base_uri": "https://localhost:8080/"
        },
        "id": "4xbTgqL3iRvy",
        "outputId": "68c24ef5-4842-4b32-cec8-c6123fbbb0f3"
      },
      "outputs": [
        {
          "data": {
            "text/plain": [
              "tensor([[0.1638, 0.9768, 0.8114],\n",
              "        [0.9476, 0.5558, 0.6393],\n",
              "        [0.8544, 0.6853, 0.7018]], device='cuda:0')"
            ]
          },
          "execution_count": 91,
          "metadata": {},
          "output_type": "execute_result"
        }
      ],
      "source": [
        "b.to(device)#moving a tensor in gpu"
      ]
    },
    {
      "cell_type": "code",
      "execution_count": null,
      "metadata": {
        "id": "k1-RD_G5iXHd"
      },
      "outputs": [],
      "source": [
        "\n"
      ]
    },
    {
      "cell_type": "markdown",
      "metadata": {
        "id": "6O3rDMtbjQDb"
      },
      "source": [
        "## Reshaping operation in tensor"
      ]
    },
    {
      "cell_type": "code",
      "execution_count": 94,
      "metadata": {
        "id": "Cgn8fr7tjTpb"
      },
      "outputs": [],
      "source": [
        "x=torch.rand(2,4)"
      ]
    },
    {
      "cell_type": "code",
      "execution_count": 95,
      "metadata": {
        "colab": {
          "base_uri": "https://localhost:8080/"
        },
        "id": "ahFWg5_fjcNr",
        "outputId": "e8ac0a0e-5e72-477f-bb6b-ee35601674b0"
      },
      "outputs": [
        {
          "data": {
            "text/plain": [
              "tensor([[[0.9186, 0.2131],\n",
              "         [0.3957, 0.6017]],\n",
              "\n",
              "        [[0.4234, 0.5224],\n",
              "         [0.4175, 0.0340]]])"
            ]
          },
          "execution_count": 95,
          "metadata": {},
          "output_type": "execute_result"
        }
      ],
      "source": [
        "x.reshape(2,2,2)"
      ]
    },
    {
      "cell_type": "code",
      "execution_count": 97,
      "metadata": {
        "colab": {
          "base_uri": "https://localhost:8080/"
        },
        "id": "lRnPRME5jgMV",
        "outputId": "5f591d60-c434-4519-a7ca-179b3b0bcf78"
      },
      "outputs": [
        {
          "data": {
            "text/plain": [
              "tensor([0.9186, 0.2131, 0.3957, 0.6017, 0.4234, 0.5224, 0.4175, 0.0340])"
            ]
          },
          "execution_count": 97,
          "metadata": {},
          "output_type": "execute_result"
        }
      ],
      "source": [
        "x.flatten()"
      ]
    },
    {
      "cell_type": "code",
      "execution_count": 98,
      "metadata": {
        "colab": {
          "base_uri": "https://localhost:8080/"
        },
        "id": "xIXF0QoNjnm4",
        "outputId": "4122ac1d-4b85-4ba5-830e-2a62fa77a698"
      },
      "outputs": [
        {
          "data": {
            "text/plain": [
              "torch.Size([2, 4])"
            ]
          },
          "execution_count": 98,
          "metadata": {},
          "output_type": "execute_result"
        }
      ],
      "source": [
        "x.shape"
      ]
    },
    {
      "cell_type": "code",
      "execution_count": 99,
      "metadata": {
        "id": "KwNdwKrcjq64"
      },
      "outputs": [],
      "source": [
        "y=torch.rand(2,4,3)"
      ]
    },
    {
      "cell_type": "code",
      "execution_count": 101,
      "metadata": {
        "colab": {
          "base_uri": "https://localhost:8080/"
        },
        "id": "n6wDlUX3j1f2",
        "outputId": "510f6d27-ef40-4d57-f396-e5b5dc932373"
      },
      "outputs": [
        {
          "data": {
            "text/plain": [
              "torch.Size([3, 2, 4])"
            ]
          },
          "execution_count": 101,
          "metadata": {},
          "output_type": "execute_result"
        }
      ],
      "source": [
        "z=y.permute(2,0,1)\n",
        "z.shape"
      ]
    },
    {
      "cell_type": "code",
      "execution_count": 118,
      "metadata": {
        "colab": {
          "base_uri": "https://localhost:8080/"
        },
        "id": "AmGQIhtrj7yI",
        "outputId": "fd31a08d-92a2-4a96-8850-def3da063d9b"
      },
      "outputs": [
        {
          "data": {
            "text/plain": [
              "torch.Size([226, 226, 1, 3])"
            ]
          },
          "execution_count": 118,
          "metadata": {},
          "output_type": "execute_result"
        }
      ],
      "source": [
        "#unsqueeze\n",
        "z=torch.rand(226,226,3)\n",
        "m=z.unsqueeze(2)#0,1,2,3\n",
        "m.shape"
      ]
    },
    {
      "cell_type": "code",
      "execution_count": 120,
      "metadata": {
        "colab": {
          "base_uri": "https://localhost:8080/"
        },
        "id": "yiNoCriWkuky",
        "outputId": "4890cf85-b141-4e18-eee5-2cda008455fd"
      },
      "outputs": [
        {
          "data": {
            "text/plain": [
              "torch.Size([226, 226, 3])"
            ]
          },
          "execution_count": 120,
          "metadata": {},
          "output_type": "execute_result"
        }
      ],
      "source": [
        "m.squeeze(2).shape"
      ]
    },
    {
      "cell_type": "code",
      "execution_count": 107,
      "metadata": {
        "colab": {
          "base_uri": "https://localhost:8080/"
        },
        "id": "3uytRU4Okv0h",
        "outputId": "0cb4f4da-a200-4428-ed1e-6d63fc4daeb3"
      },
      "outputs": [
        {
          "data": {
            "text/plain": [
              "torch.Size([226, 226, 3])"
            ]
          },
          "execution_count": 107,
          "metadata": {},
          "output_type": "execute_result"
        }
      ],
      "source": [
        "z.shape"
      ]
    },
    {
      "cell_type": "code",
      "execution_count": 122,
      "metadata": {
        "id": "_CRvzu3vk-cA"
      },
      "outputs": [],
      "source": [
        "# convert tensor to numpy array"
      ]
    },
    {
      "cell_type": "code",
      "execution_count": 124,
      "metadata": {
        "id": "nvO_fdMul6Zn"
      },
      "outputs": [],
      "source": [
        "a=torch.tensor([2,3])"
      ]
    },
    {
      "cell_type": "code",
      "execution_count": 125,
      "metadata": {
        "id": "18LnFfodmJpi"
      },
      "outputs": [],
      "source": [
        "import numpy as np"
      ]
    },
    {
      "cell_type": "code",
      "execution_count": 126,
      "metadata": {
        "id": "wkRVUt6OmUZo"
      },
      "outputs": [],
      "source": [
        "b=a.numpy()"
      ]
    },
    {
      "cell_type": "code",
      "execution_count": 127,
      "metadata": {
        "colab": {
          "base_uri": "https://localhost:8080/"
        },
        "id": "MXdAfveemXj8",
        "outputId": "cb5ed9c5-9961-4188-e9aa-9417dde01098"
      },
      "outputs": [
        {
          "data": {
            "text/plain": [
              "numpy.ndarray"
            ]
          },
          "execution_count": 127,
          "metadata": {},
          "output_type": "execute_result"
        }
      ],
      "source": [
        "type(b)"
      ]
    },
    {
      "cell_type": "code",
      "execution_count": 128,
      "metadata": {
        "id": "rQppUXCAmZKN"
      },
      "outputs": [],
      "source": [
        "#convwert numpy array to tensor"
      ]
    },
    {
      "cell_type": "code",
      "execution_count": 129,
      "metadata": {
        "id": "gk58y5tLmdcM"
      },
      "outputs": [],
      "source": [
        "a=np.array([3,4,5])"
      ]
    },
    {
      "cell_type": "code",
      "execution_count": 131,
      "metadata": {
        "id": "QcO8lvvDmgW4"
      },
      "outputs": [],
      "source": [
        "b=torch.from_numpy(a)"
      ]
    },
    {
      "cell_type": "code",
      "execution_count": 132,
      "metadata": {
        "colab": {
          "base_uri": "https://localhost:8080/"
        },
        "id": "MWeDvgfgmiYi",
        "outputId": "9597b686-28dd-4351-caf5-bd18435bf890"
      },
      "outputs": [
        {
          "data": {
            "text/plain": [
              "torch.Tensor"
            ]
          },
          "execution_count": 132,
          "metadata": {},
          "output_type": "execute_result"
        }
      ],
      "source": [
        "type(b)"
      ]
    },
    {
      "cell_type": "code",
      "execution_count": null,
      "metadata": {
        "id": "gama5kxSmuMo"
      },
      "outputs": [],
      "source": []
    }
  ],
  "metadata": {
    "accelerator": "GPU",
    "colab": {
      "gpuType": "T4",
      "provenance": []
    },
    "kernelspec": {
      "display_name": "base",
      "language": "python",
      "name": "python3"
    },
    "language_info": {
      "name": "python",
      "version": "3.11.4"
    }
  },
  "nbformat": 4,
  "nbformat_minor": 0
}
